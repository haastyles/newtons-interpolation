{
 "cells": [
  {
   "cell_type": "markdown",
   "metadata": {},
   "source": [
    "The code here will find the Newton's Interpolating Polynomial of $\\frac{1}{x^2 + 1}$ when $x$ is in $(-5,5)$."
   ]
  },
  {
   "cell_type": "code",
   "execution_count": 9,
   "metadata": {},
   "outputs": [],
   "source": [
    "import matplotlib.pyplot as plt\n",
    "from pylab import mpl\n",
    "import numpy as np\n",
    "import pandas as pd"
   ]
  },
  {
   "cell_type": "markdown",
   "metadata": {},
   "source": [
    "Below we have the subprogram, $divided$_$diff(X, Y)$ that finds the divided difference table of our $X$ and $Y$ arrays."
   ]
  },
  {
   "cell_type": "code",
   "execution_count": 10,
   "metadata": {},
   "outputs": [],
   "source": [
    "def divided_diff(X, Y):\n",
    "    \n",
    "    n = len(X)\n",
    "    A = np.zeros([n, n])\n",
    "    \n",
    "    for i in range(0, n):\n",
    "        A[i][0] = Y[i]\n",
    "    \n",
    "    for j in range(1, n):\n",
    "        for i in range(j, n):\n",
    "            A[i][j] = (A[i][j - 1] - A[i - 1][j - 1]) / (X[i] - X[i - j]) \n",
    "    \n",
    "    return A"
   ]
  },
  {
   "cell_type": "markdown",
   "metadata": {},
   "source": [
    "Below this, we have the subprogram, $newtons$_$int(xData, yData, x)$, that will find the value of our Newton's Interpolating Polynomial, $P_{n}(x)$, at a certain value of $x$."
   ]
  },
  {
   "cell_type": "code",
   "execution_count": 11,
   "metadata": {},
   "outputs": [],
   "source": [
    "def newtons_int(xData, yData, x):\n",
    "    \n",
    "    A = divided_diff(X, Y)\n",
    "    \n",
    "    n = len(X) - 1\n",
    "    \n",
    "    x_0 = 1\n",
    "    y = np.zeros([n])\n",
    "    \n",
    "    y_sum = A[0][0]\n",
    "    yterm = 0\n",
    "    \n",
    "    for k in range(1, len(X)):\n",
    "        x_0 *= (x - X[k - 1])\n",
    "        yterm = (A[k][k] * x_0)\n",
    "        y_sum += yterm\n",
    "       \n",
    "    return y_sum\n",
    "    "
   ]
  },
  {
   "cell_type": "markdown",
   "metadata": {},
   "source": [
    "Below we observe 3 different divided difference tables, each evaluated at a certain value of $n$-th degree. The first is evaluated at $n = 5$, the second at $n = 10$, and the third at $n = 15$. When applying the $newtons$_$int()$ subprogram, we will see that as $n$ increases then $P_{n}(x)$ becomes a closer approximation to $f(x)$."
   ]
  },
  {
   "cell_type": "code",
   "execution_count": 12,
   "metadata": {},
   "outputs": [
    {
     "name": "stdout",
     "output_type": "stream",
     "text": [
      "          0         1         2         3         4\n",
      "0  0.038462  0.000000  0.000000  0.000000  0.000000\n",
      "1  0.137931  0.039788  0.000000  0.000000  0.000000\n",
      "2  1.000000  0.344828  0.061008  0.000000  0.000000\n",
      "3  0.137931 -0.344828 -0.137931 -0.026525  0.000000\n",
      "4  0.038462 -0.039788  0.061008  0.026525  0.005305\n"
     ]
    }
   ],
   "source": [
    "X= np.linspace(-5, 5, 5)\n",
    "Y= 1 / (X**2 + 1)\n",
    "A = divided_diff(X, Y)\n",
    "df = pd.DataFrame(A)\n",
    "print(df)"
   ]
  },
  {
   "cell_type": "code",
   "execution_count": 13,
   "metadata": {},
   "outputs": [
    {
     "name": "stdout",
     "output_type": "stream",
     "text": [
      "          0         1         2             3         4             5  \\\n",
      "0  0.038462  0.000000  0.000000  0.000000e+00  0.000000  0.000000e+00   \n",
      "1  0.062021  0.021204  0.000000  0.000000e+00  0.000000  0.000000e+00   \n",
      "2  0.114731  0.047438  0.011806  0.000000e+00  0.000000  0.000000e+00   \n",
      "3  0.264706  0.134978  0.039393  8.276097e-03  0.000000  0.000000e+00   \n",
      "4  0.764151  0.449501  0.141535  3.064285e-02  0.005033  0.000000e+00   \n",
      "5  0.764151  0.000000 -0.202275 -1.031432e-01 -0.030102 -6.324188e-03   \n",
      "6  0.264706 -0.449501 -0.202275  2.498002e-17  0.023207  9.595633e-03   \n",
      "7  0.114731 -0.134978  0.141535  1.031432e-01  0.023207 -4.996004e-18   \n",
      "8  0.062021 -0.047438  0.039393 -3.064285e-02 -0.030102 -9.595633e-03   \n",
      "9  0.038462 -0.021204  0.011806 -8.276097e-03  0.005033  6.324188e-03   \n",
      "\n",
      "          6             7         8             9  \n",
      "0  0.000000  0.000000e+00  0.000000  0.000000e+00  \n",
      "1  0.000000  0.000000e+00  0.000000  0.000000e+00  \n",
      "2  0.000000  0.000000e+00  0.000000  0.000000e+00  \n",
      "3  0.000000  0.000000e+00  0.000000  0.000000e+00  \n",
      "4  0.000000  0.000000e+00  0.000000  0.000000e+00  \n",
      "5  0.000000  0.000000e+00  0.000000  0.000000e+00  \n",
      "6  0.002388  0.000000e+00  0.000000  0.000000e+00  \n",
      "7 -0.001439 -4.920838e-04  0.000000  0.000000e+00  \n",
      "8 -0.001439  3.345538e-19  0.000055  0.000000e+00  \n",
      "9  0.002388  4.920838e-04  0.000055 -1.219727e-20  \n"
     ]
    }
   ],
   "source": [
    "X= np.linspace(-5, 5, 10)\n",
    "Y= 1 / (X**2 + 1)\n",
    "A = divided_diff(X, Y)\n",
    "df = pd.DataFrame(A)\n",
    "print(df)"
   ]
  },
  {
   "cell_type": "code",
   "execution_count": 14,
   "metadata": {},
   "outputs": [
    {
     "name": "stdout",
     "output_type": "stream",
     "text": [
      "           0         1         2         3         4         5         6  \\\n",
      "0   0.038462  0.000000  0.000000  0.000000  0.000000  0.000000  0.000000   \n",
      "1   0.051633  0.018440  0.000000  0.000000  0.000000  0.000000  0.000000   \n",
      "2   0.072700  0.029494  0.007737  0.000000  0.000000  0.000000  0.000000   \n",
      "3   0.109131  0.051004  0.015057  0.003416  0.000000  0.000000  0.000000   \n",
      "4   0.178832  0.097581  0.032604  0.008189  0.001671  0.000000  0.000000   \n",
      "5   0.328859  0.210038  0.078720  0.021521  0.004666  0.000839  0.000000   \n",
      "6   0.662162  0.466624  0.179611  0.047082  0.008947  0.001199  0.000084   \n",
      "7   1.000000  0.472973  0.004444 -0.081744 -0.045089 -0.015130 -0.003810   \n",
      "8   0.662162 -0.472973 -0.662162 -0.311083 -0.080268 -0.009850  0.001232   \n",
      "9   0.328859 -0.466624  0.004444  0.311083  0.217758  0.083447  0.021769   \n",
      "10  0.178832 -0.210038  0.179611  0.081744 -0.080268 -0.083447 -0.038942   \n",
      "11  0.109131 -0.097581  0.078720 -0.047082 -0.045089  0.009850  0.021769   \n",
      "12  0.072700 -0.051004  0.032604 -0.021521  0.008947  0.015130  0.001232   \n",
      "13  0.051633 -0.029494  0.015057 -0.008189  0.004666 -0.001199 -0.003810   \n",
      "14  0.038462 -0.018440  0.007737 -0.003416  0.001671 -0.000839  0.000084   \n",
      "\n",
      "           7         8         9        10        11        12        13  \\\n",
      "0   0.000000  0.000000  0.000000  0.000000  0.000000  0.000000  0.000000   \n",
      "1   0.000000  0.000000  0.000000  0.000000  0.000000  0.000000  0.000000   \n",
      "2   0.000000  0.000000  0.000000  0.000000  0.000000  0.000000  0.000000   \n",
      "3   0.000000  0.000000  0.000000  0.000000  0.000000  0.000000  0.000000   \n",
      "4   0.000000  0.000000  0.000000  0.000000  0.000000  0.000000  0.000000   \n",
      "5   0.000000  0.000000  0.000000  0.000000  0.000000  0.000000  0.000000   \n",
      "6   0.000000  0.000000  0.000000  0.000000  0.000000  0.000000  0.000000   \n",
      "7  -0.000779  0.000000  0.000000  0.000000  0.000000  0.000000  0.000000   \n",
      "8   0.001008  0.000313  0.000000  0.000000  0.000000  0.000000  0.000000   \n",
      "9   0.004107  0.000542  0.000036  0.000000  0.000000  0.000000  0.000000   \n",
      "10 -0.012142 -0.002844 -0.000527 -0.000079  0.000000  0.000000  0.000000   \n",
      "11  0.012142  0.004250  0.001103  0.000228  0.000039  0.000000  0.000000   \n",
      "12 -0.004107 -0.002844 -0.001103 -0.000309 -0.000068 -0.000013  0.000000   \n",
      "13 -0.001008  0.000542  0.000527  0.000228  0.000068  0.000016  0.000003   \n",
      "14  0.000779  0.000313 -0.000036 -0.000079 -0.000039 -0.000013 -0.000003   \n",
      "\n",
      "              14  \n",
      "0   0.000000e+00  \n",
      "1   0.000000e+00  \n",
      "2   0.000000e+00  \n",
      "3   0.000000e+00  \n",
      "4   0.000000e+00  \n",
      "5   0.000000e+00  \n",
      "6   0.000000e+00  \n",
      "7   0.000000e+00  \n",
      "8   0.000000e+00  \n",
      "9   0.000000e+00  \n",
      "10  0.000000e+00  \n",
      "11  0.000000e+00  \n",
      "12  0.000000e+00  \n",
      "13  0.000000e+00  \n",
      "14 -6.135672e-07  \n"
     ]
    }
   ],
   "source": [
    "X= np.linspace(-5, 5, 15)\n",
    "Y= 1 / (X**2 + 1)\n",
    "A = divided_diff(X, Y)\n",
    "df = pd.DataFrame(A)\n",
    "print(df)"
   ]
  },
  {
   "cell_type": "markdown",
   "metadata": {},
   "source": [
    "Now we plot the following functions: $P_{5}(x)$, $P_{10}(x)$, $P_{15}(x)$, and $f(x)$. We observe that because all of the Newton's Interpolating Polynomials that we have found are so close in range from each other that we only see $P_{15}(x)$ plotted. When $x$ is between roughly $(-2.5,2.5)$ we observe that $P_{15}(x)$ and $f(x)$ are very close in value. Therefore, $P_{15}(x)$ is a great approximation of $f(x)$ between those values of $x$."
   ]
  },
  {
   "cell_type": "code",
   "execution_count": 15,
   "metadata": {},
   "outputs": [
    {
     "data": {
      "image/png": "[encoded data removed]",
      "text/plain": [
       "<Figure size 432x288 with 1 Axes>"
      ]
     },
     "metadata": {
      "needs_background": "light"
     },
     "output_type": "display_data"
    }
   ],
   "source": [
    "import matplotlib.pyplot as plt\n",
    "import numpy as np\n",
    "\n",
    "x_array = np.linspace(-5, 5, 30)\n",
    "p5_array = newtons_int(np.linspace(-5, 5, 5), 1 / (1 + np.linspace(-5, 5, 5)**2), x_array)\n",
    "p10_array = newtons_int(np.linspace(-5, 5, 10), 1 / (1 + np.linspace(-5, 5, 10)**2), x_array)\n",
    "p15_array = newtons_int(np.linspace(-5, 5, 15), 1 / (1 + np.linspace(-5, 5, 15)**2), x_array)\n",
    "f_array = 1 / (1 + x_array**2)\n",
    "\n",
    "\n",
    "\n",
    "plt.plot(x_array, p5_array, label = '$P_{5}$(x)')\n",
    "plt.plot(x_array, p10_array, label = '$P_{10}$(x)')\n",
    "plt.plot(x_array, p15_array, label = '$P_{15}$(x)')\n",
    "plt.plot(x_array, f_array, label = 'f(x)')\n",
    "\n",
    "\n",
    "plt.title('P(x) vs. f(x)')\n",
    "plt.xlabel('x from -5 to 5')\n",
    "plt.ylabel('y values')\n",
    "plt.legend(loc='upper right')\n",
    " \n",
    "plt.grid() \n",
    "\n",
    "plt.show()"
   ]
  },
  {
   "cell_type": "markdown",
   "metadata": {},
   "source": [
    "We can observe what we were discussing earlier about the difference between $P_{n}(x)$ and $f(x)$ for any value of $n$ with plotting the error, $E_{n}(x)$, between them. When plotting $E_{n}(x)$ for each respective $n$ we will see the error oscillates a very small ammount from $0$ between $(-3.5,3.5)$. When $x = -5$ and $x = 5$, we will see that $E_{n}(x)$ takes a huge spike in error compared the values between $(-3.5,3.5)$. One could suggest that this is due to them being endpoints and their $P_{n}(x)$ values will not be represented from the Newton's Interpolating Polynomial."
   ]
  },
  {
   "cell_type": "code",
   "execution_count": 16,
   "metadata": {},
   "outputs": [
    {
     "data": {
      "image/png": "[encoded data removed]",
      "text/plain": [
       "<Figure size 432x288 with 1 Axes>"
      ]
     },
     "metadata": {
      "needs_background": "light"
     },
     "output_type": "display_data"
    }
   ],
   "source": [
    "x_array = np.linspace(-5, 5, 30)\n",
    "p5_array = newtons_int(np.linspace(-5, 5, 5), 1 / (1 + np.linspace(-5, 5, 5)**2), x_array)\n",
    "p10_array = newtons_int(np.linspace(-5, 5, 10), 1 / (1 + np.linspace(-5, 5, 10)**2), x_array)\n",
    "p15_array = newtons_int(np.linspace(-5, 5, 15), 1 / (1 + np.linspace(-5, 5, 15)**2), x_array)\n",
    "f_array = 1 / (1 + x_array**2)\n",
    "\n",
    "e5_array = f_array - p5_array\n",
    "e10_array = f_array - p10_array\n",
    "e15_array = f_array - p15_array\n",
    "\n",
    "plt.plot(x_array, e5_array, label = '$E_5$(x)')\n",
    "plt.plot(x_array, e10_array, label = '$E_{10}$(x)')\n",
    "plt.plot(x_array, e15_array, label = '$E_15$(x)')\n",
    "\n",
    "\n",
    "\n",
    "plt.title('Error of $P_{5}$(x), $P_{10}$(x), and $P_{15}$(x)')\n",
    "plt.xlabel('x from -5 to 5')\n",
    "plt.ylabel('y values')\n",
    "plt.legend(loc='upper right')\n",
    " \n",
    "plt.grid() \n",
    "\n",
    "plt.show()"
   ]
  }
 ],
 "metadata": {
  "kernelspec": {
   "display_name": "Python 3",
   "language": "python",
   "name": "python3"
  },
  "language_info": {
   "codemirror_mode": {
    "name": "ipython",
    "version": 3
   },
   "file_extension": ".py",
   "mimetype": "text/x-python",
   "name": "python",
   "nbconvert_exporter": "python",
   "pygments_lexer": "ipython3",
   "version": "3.7.4"
  }
 },
 "nbformat": 4,
 "nbformat_minor": 2
}
